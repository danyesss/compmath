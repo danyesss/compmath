{
 "cells": [
  {
   "cell_type": "code",
   "execution_count": 20,
   "metadata": {},
   "outputs": [],
   "source": [
    "import pandas as pd\n",
    "import numpy as np\n",
    "\n",
    "import math\n",
    "import matplotlib.pyplot as plt"
   ]
  },
  {
   "cell_type": "markdown",
   "metadata": {},
   "source": [
    "## Задача 1\n"
   ]
  },
  {
   "cell_type": "markdown",
   "metadata": {},
   "source": [
    "Напишите свою собственную функцию вычисления SVD итерационным методом. Сравните\n",
    "её работу с работой библиотечной функции."
   ]
  },
  {
   "cell_type": "code",
   "execution_count": 81,
   "metadata": {},
   "outputs": [],
   "source": [
    "def my_svd(M):\n",
    "    n = M.shape[0]\n",
    "    b = np.random.randn(n,1)\n",
    "    b = b/np.linalg.norm(b)\n",
    "    dF = 1\n",
    "    F = np.linalg.norm(M)\n",
    "    \n",
    "    svd = []\n",
    "    \n",
    "    while (dF > 1e-7 or F > 1e-5):\n",
    "        F0 = np.copy(F)\n",
    "        a = M @ b\n",
    "        M = M - a @ b.T\n",
    "        svd.append((a.T @ b)[0,0])\n",
    "        F = np.linalg.norm(M)\n",
    "        # print(F)\n",
    "        dF = F0 - F\n",
    "        # print(dF)\n",
    "        # print(a)\n",
    "        # print(b)\n",
    "        # print(a @ b.T)\n",
    "        b = (M @ a) / np.linalg.norm(a)\n",
    "        \n",
    "    return svd"
   ]
  },
  {
   "cell_type": "code",
   "execution_count": 82,
   "metadata": {},
   "outputs": [],
   "source": [
    "M = np.eye(10)"
   ]
  },
  {
   "cell_type": "code",
   "execution_count": 85,
   "metadata": {},
   "outputs": [],
   "source": [
    "A = np.random.randn(5,5)\n",
    "# A = A @ A.T"
   ]
  },
  {
   "cell_type": "code",
   "execution_count": 86,
   "metadata": {},
   "outputs": [
    {
     "name": "stderr",
     "output_type": "stream",
     "text": [
      "/tmp/ipykernel_23066/3755232023.py:13: RuntimeWarning: overflow encountered in matmul\n",
      "  M = M - a @ b.T\n",
      "/tmp/ipykernel_23066/3755232023.py:14: RuntimeWarning: overflow encountered in matmul\n",
      "  svd.append((a.T @ b)[0,0])\n",
      "/tmp/ipykernel_23066/3755232023.py:22: RuntimeWarning: invalid value encountered in true_divide\n",
      "  b = (M @ a) / np.linalg.norm(a)\n"
     ]
    },
    {
     "data": {
      "text/plain": [
       "[0.37932794919784285,\n",
       " 3.6313806787600313,\n",
       " -32.27593793089667,\n",
       " 24855.631508530816,\n",
       " -15301843785157.287,\n",
       " 3.582871973608659e+39,\n",
       " -4.599322569737885e+118,\n",
       " inf,\n",
       " nan]"
      ]
     },
     "execution_count": 86,
     "metadata": {},
     "output_type": "execute_result"
    }
   ],
   "source": [
    "my_svd(A)"
   ]
  },
  {
   "cell_type": "code",
   "execution_count": 78,
   "metadata": {},
   "outputs": [
    {
     "data": {
      "text/plain": [
       "array([1., 1., 1., 1., 1., 1., 1., 1., 1., 1.])"
      ]
     },
     "execution_count": 78,
     "metadata": {},
     "output_type": "execute_result"
    }
   ],
   "source": [
    "M[M>1e-10]"
   ]
  },
  {
   "cell_type": "code",
   "execution_count": 18,
   "metadata": {},
   "outputs": [],
   "source": [
    "a = np.random.randn(3)"
   ]
  },
  {
   "cell_type": "code",
   "execution_count": 19,
   "metadata": {},
   "outputs": [],
   "source": [
    "b = np.random.randn(3)"
   ]
  },
  {
   "cell_type": "code",
   "execution_count": 24,
   "metadata": {},
   "outputs": [
    {
     "data": {
      "text/plain": [
       "array([-0.02225578, -0.14988021, -0.02717537, -0.12237603, -0.82413414,\n",
       "       -0.14942702,  0.1849065 ,  1.2452419 ,  0.22577974])"
      ]
     },
     "execution_count": 24,
     "metadata": {},
     "output_type": "execute_result"
    }
   ],
   "source": [
    "np.kron(a, b)"
   ]
  },
  {
   "cell_type": "code",
   "execution_count": 25,
   "metadata": {},
   "outputs": [],
   "source": [
    "a = a.reshape(-1, 1)\n",
    "b = b.reshape(-1, 1)"
   ]
  },
  {
   "cell_type": "code",
   "execution_count": 41,
   "metadata": {},
   "outputs": [
    {
     "data": {
      "text/plain": [
       "-0.6206101738762485"
      ]
     },
     "execution_count": 41,
     "metadata": {},
     "output_type": "execute_result"
    }
   ],
   "source": [
    "(a.T @ b )[0,0]"
   ]
  },
  {
   "cell_type": "markdown",
   "metadata": {},
   "source": [
    "## Задача 2"
   ]
  },
  {
   "cell_type": "markdown",
   "metadata": {},
   "source": [
    "Написать программу, которая генерирует случайные разреженные матрицы"
   ]
  },
  {
   "cell_type": "code",
   "execution_count": 21,
   "metadata": {},
   "outputs": [],
   "source": [
    "import scipy.sparse as spar"
   ]
  },
  {
   "cell_type": "code",
   "execution_count": 24,
   "metadata": {},
   "outputs": [],
   "source": []
  },
  {
   "cell_type": "code",
   "execution_count": 59,
   "metadata": {},
   "outputs": [
    {
     "data": {
      "text/plain": [
       "array([1.79546805, 1.61264394, 1.46194023, 1.43556941, 1.37268286,\n",
       "       1.22136048, 1.18753431, 1.17170604, 1.13915584, 1.0888378 ,\n",
       "       1.082748  , 1.01654049, 0.9956047 , 0.96256521, 0.94649217,\n",
       "       0.94402238, 0.93116127, 0.93054012, 0.89318826, 0.88824812,\n",
       "       0.88634717, 0.863825  , 0.86300156, 0.84588309, 0.81907562,\n",
       "       0.80620197, 0.7532441 , 0.7432375 , 0.72962444, 0.7120071 ,\n",
       "       0.68406028, 0.67198485, 0.66599826, 0.65336631, 0.62515938,\n",
       "       0.58917636, 0.55593504, 0.54611354, 0.50349452, 0.46520992,\n",
       "       0.37218108, 0.37186361, 0.3697764 , 0.35239288, 0.32624518,\n",
       "       0.2820348 , 0.25789638, 0.23568301, 0.21624466, 0.1959908 ,\n",
       "       0.08724441, 0.07752948, 0.06582087, 0.04563729, 0.02058998,\n",
       "       0.        , 0.        , 0.        , 0.        , 0.        ,\n",
       "       0.        , 0.        , 0.        , 0.        , 0.        ,\n",
       "       0.        , 0.        , 0.        , 0.        , 0.        ,\n",
       "       0.        , 0.        , 0.        , 0.        , 0.        ,\n",
       "       0.        , 0.        , 0.        , 0.        , 0.        ,\n",
       "       0.        , 0.        , 0.        , 0.        , 0.        ,\n",
       "       0.        , 0.        , 0.        , 0.        , 0.        ,\n",
       "       0.        , 0.        , 0.        , 0.        , 0.        ,\n",
       "       0.        , 0.        , 0.        , 0.        ])"
      ]
     },
     "execution_count": 59,
     "metadata": {},
     "output_type": "execute_result"
    }
   ],
   "source": [
    "n = 100\n",
    "p = 0.01\n",
    "X = spar.random(n, n, density=p)\n",
    "u, sigma, v = spar.linalg.svds(X.asfptype(), k=n-1,  which='LM')\n",
    "sigma = sigma[::-1]\n",
    "sigma"
   ]
  },
  {
   "cell_type": "code",
   "execution_count": 62,
   "metadata": {},
   "outputs": [
    {
     "data": {
      "image/png": "[encoded data removed]",
      "text/plain": [
       "<Figure size 540x360 with 1 Axes>"
      ]
     },
     "metadata": {
      "needs_background": "light"
     },
     "output_type": "display_data"
    }
   ],
   "source": [
    "plt.subplots(1,1, dpi=90)\n",
    "\n",
    "plt.plot(sigma)\n",
    "plt.show()"
   ]
  },
  {
   "cell_type": "markdown",
   "metadata": {},
   "source": [
    "## Задача 3"
   ]
  },
  {
   "cell_type": "code",
   "execution_count": 135,
   "metadata": {},
   "outputs": [],
   "source": [
    "def pseudo_inv(M):\n",
    "    L = np.linalg.norm(M)\n",
    "    U, S, VT = np.linalg.svd(M, full_matrices=False)\n",
    "    # print(U @ np.diag(S) @ VT)\n",
    "    invS = np.diag(1/S) \n",
    "    invS = invS*(np.abs(invS) < 1e14)\n",
    "    invM = VT.T @ invS @ U.T\n",
    "    invM = invM *(np.abs(invM) > 1e-9)\n",
    "    return invM"
   ]
  },
  {
   "cell_type": "code",
   "execution_count": 121,
   "metadata": {},
   "outputs": [],
   "source": [
    "def pseudo_inv_noisy(M):\n",
    "    L = np.linalg.norm(M)\n",
    "    U, S, VT = np.linalg.svd(M, full_matrices=False)\n",
    "    \n",
    "    invM = VT.H @ np.diag(1/S) @ U.H\n",
    "    # print((np.abs(invM) > 1e-13))\n",
    "    invM = invM *(np.abs(invM) > 1e-13)\n",
    "    return invM"
   ]
  },
  {
   "cell_type": "code",
   "execution_count": 161,
   "metadata": {},
   "outputs": [],
   "source": [
    "B = np.array([[0, 1, 2, 4],[3, 2, 1, -5],[0, 3, 4, 1]])"
   ]
  },
  {
   "cell_type": "code",
   "execution_count": 169,
   "metadata": {},
   "outputs": [
    {
     "data": {
      "text/plain": [
       "array([[ 1.00000000e+00, -3.46944695e-17, -1.66533454e-16],\n",
       "       [-2.22044605e-16,  1.00000000e+00, -4.44089210e-16],\n",
       "       [ 3.33066907e-16, -1.94289029e-16,  1.00000000e+00]])"
      ]
     },
     "execution_count": 169,
     "metadata": {},
     "output_type": "execute_result"
    }
   ],
   "source": [
    "B @ pseudo_inv(B)"
   ]
  },
  {
   "cell_type": "code",
   "execution_count": 174,
   "metadata": {},
   "outputs": [
    {
     "data": {
      "text/plain": [
       "array([[ 1.00000000e+00,  8.88178420e-16,  4.99600361e-16],\n",
       "       [ 2.35922393e-16,  1.00000000e+00,  3.60822483e-16],\n",
       "       [-2.77555756e-16, -1.11022302e-16,  1.00000000e+00]])"
      ]
     },
     "execution_count": 174,
     "metadata": {},
     "output_type": "execute_result"
    }
   ],
   "source": [
    "pseudo_inv(B.T) @ B.T"
   ]
  },
  {
   "cell_type": "code",
   "execution_count": 122,
   "metadata": {},
   "outputs": [],
   "source": [
    "A = [[0, 1, 2],[3, 2, 1],[0, 3, 4]]"
   ]
  },
  {
   "cell_type": "code",
   "execution_count": 152,
   "metadata": {},
   "outputs": [],
   "source": [
    "mu = []\n",
    "rep = 400\n",
    "for n in range(1,41):\n",
    "    sm = 0\n",
    "    for _ in range(rep):\n",
    "        A = np.random.randn(n,n)\n",
    "        invA = pseudo_inv(A)\n",
    "        sm += np.linalg.norm(A) * np.linalg.norm(invA)/rep\n",
    "    \n",
    "    mu.append(sm)\n",
    "    "
   ]
  },
  {
   "cell_type": "code",
   "execution_count": 153,
   "metadata": {},
   "outputs": [
    {
     "data": {
      "text/plain": [
       "[<matplotlib.lines.Line2D at 0x7fd85980e370>]"
      ]
     },
     "execution_count": 153,
     "metadata": {},
     "output_type": "execute_result"
    },
    {
     "data": {
      "image/png": "[encoded data removed]",
      "text/plain": [
       "<Figure size 432x288 with 1 Axes>"
      ]
     },
     "metadata": {
      "needs_background": "light"
     },
     "output_type": "display_data"
    }
   ],
   "source": [
    "plt.plot(mu)"
   ]
  },
  {
   "cell_type": "code",
   "execution_count": 137,
   "metadata": {},
   "outputs": [
    {
     "data": {
      "text/plain": [
       "array([[ 1.,  0.,  0.,  0., -0., -0.,  0.,  0.,  0., -0.],\n",
       "       [ 0.,  1., -0., -0.,  0., -0.,  0.,  0., -0.,  0.],\n",
       "       [-0., -0.,  1.,  0., -0., -0., -0.,  0.,  0., -0.],\n",
       "       [ 0.,  0., -0.,  1.,  0.,  0.,  0.,  0., -0.,  0.],\n",
       "       [-0., -0.,  0.,  0.,  1., -0., -0.,  0.,  0., -0.],\n",
       "       [-0., -0., -0.,  0.,  0.,  1., -0.,  0.,  0., -0.],\n",
       "       [-0.,  0.,  0., -0., -0.,  0.,  1.,  0., -0.,  0.],\n",
       "       [-0.,  0., -0., -0.,  0., -0.,  0.,  1., -0.,  0.],\n",
       "       [-0.,  0.,  0.,  0.,  0., -0., -0., -0.,  1.,  0.],\n",
       "       [ 0.,  0., -0., -0., -0.,  0.,  0., -0., -0.,  1.]])"
      ]
     },
     "execution_count": 137,
     "metadata": {},
     "output_type": "execute_result"
    }
   ],
   "source": [
    "E = A @ invA \n",
    "E*(np.abs(E)>1e-14)\n"
   ]
  },
  {
   "cell_type": "markdown",
   "metadata": {},
   "source": [
    "## Задача 4"
   ]
  },
  {
   "cell_type": "code",
   "execution_count": 181,
   "metadata": {},
   "outputs": [],
   "source": [
    "from sklearn.preprocessing import PolynomialFeatures"
   ]
  },
  {
   "cell_type": "code",
   "execution_count": 222,
   "metadata": {},
   "outputs": [],
   "source": [
    "def solve_lsq(M):\n",
    "    M = M.astype(\"float64\")\n",
    "    \n",
    "    Q, R = np.linalg.qr(M)\n",
    "    f = Q.T @ y\n",
    "    \n",
    "    f = f.astype(\"float64\")\n",
    "    \n",
    "    f = f.reshape(1, -1)\n",
    "    n = f.shape[1]\n",
    "    \n",
    "    w = np.zeros(n)\n",
    "    \n",
    "    # if get_rang(M) != n:\n",
    "    #     return \"err: вырожденная матрица\"\n",
    "    \n",
    "    Rf = np.concatenate((R, f.reshape(n, 1)), axis=1)\n",
    "    # Mf = gauss(Mf)\n",
    "    \n",
    "    for i in range(n-1, -1, -1):\n",
    "        tmp = 0.\n",
    "        \n",
    "        for j in range(i + 1, n):\n",
    "            tmp += w[j] * Rf[i, j]\n",
    "    \n",
    "        w[i] = (Rf[i, n] - tmp) / Rf[i, i]\n",
    "    return w"
   ]
  },
  {
   "cell_type": "code",
   "execution_count": 223,
   "metadata": {},
   "outputs": [],
   "source": [
    "# generating matrix with uniformly random elements\n",
    "\n",
    "A = np.random.random((2,2))*2 - 1\n",
    "A = A.T @ A\n",
    "\n",
    "cov = np.linalg.inv(2*A)\n",
    "mean = np.zeros(2)\n",
    "\n",
    "N = 50\n",
    "\n",
    "data = np.random.multivariate_normal(mean, cov, N)"
   ]
  },
  {
   "cell_type": "code",
   "execution_count": 244,
   "metadata": {},
   "outputs": [],
   "source": [
    "x = np.linspace(0, 10, 20)\n",
    "y = np.cos(x) + np.random.normal(0, 1e-1, x.shape)"
   ]
  },
  {
   "cell_type": "code",
   "execution_count": 257,
   "metadata": {},
   "outputs": [],
   "source": [
    "MAX_ORDER = 5\n",
    "\n",
    "# Ns = np.linspace(0, 1, N)\n",
    "# print(x.shape)\n",
    "\n",
    "poly = PolynomialFeatures(MAX_ORDER)\n",
    "X = poly.fit_transform(x.reshape(-1, 1))"
   ]
  },
  {
   "cell_type": "code",
   "execution_count": 253,
   "metadata": {},
   "outputs": [],
   "source": [
    "Q, R = np.linalg.qr(X)\n",
    "rhs = Q.T @ y"
   ]
  },
  {
   "cell_type": "code",
   "execution_count": 249,
   "metadata": {},
   "outputs": [
    {
     "data": {
      "text/plain": [
       "(6, 6)"
      ]
     },
     "execution_count": 249,
     "metadata": {},
     "output_type": "execute_result"
    }
   ],
   "source": [
    "R.shape"
   ]
  },
  {
   "cell_type": "code",
   "execution_count": 251,
   "metadata": {},
   "outputs": [
    {
     "data": {
      "text/plain": [
       "(20,)"
      ]
     },
     "execution_count": 251,
     "metadata": {},
     "output_type": "execute_result"
    }
   ],
   "source": [
    "y.shape"
   ]
  },
  {
   "cell_type": "code",
   "execution_count": 256,
   "metadata": {},
   "outputs": [
    {
     "data": {
      "image/png": "[encoded data removed]",
      "text/plain": [
       "<Figure size 540x360 with 1 Axes>"
      ]
     },
     "metadata": {
      "needs_background": "light"
     },
     "output_type": "display_data"
    }
   ],
   "source": [
    "w = solve_lsq(X)\n",
    "\n",
    "xfit = np.linspace(0,10,100)\n",
    "\n",
    "Xfit = poly.fit_transform(xfit.reshape(-1, 1))\n",
    "\n",
    "yfit = Xfit @ w\n",
    "\n",
    "\n",
    "fig, axs = plt.subplots(1,1, dpi=90)\n",
    "\n",
    "plt.plot(xfit, yfit)\n",
    "plt.plot(x, y, \"o\", markersize=3)\n",
    "\n",
    "plt.show()"
   ]
  },
  {
   "cell_type": "code",
   "execution_count": null,
   "metadata": {},
   "outputs": [],
   "source": []
  }
 ],
 "metadata": {
  "colab": {
   "collapsed_sections": [
    "MeXTSdSfKdL2",
    "sS3EHa1aKmJi",
    "gpR6GBRtKmXq",
    "8-476ZEtKmk5",
    "s8jGlqhJKmpB",
    "634QUTkyKnWR"
   ],
   "name": "Problems B7.ipynb",
   "provenance": []
  },
  "kernelspec": {
   "display_name": "snakess",
   "language": "python",
   "name": "snakess"
  },
  "language_info": {
   "codemirror_mode": {
    "name": "ipython",
    "version": 3
   },
   "file_extension": ".py",
   "mimetype": "text/x-python",
   "name": "python",
   "nbconvert_exporter": "python",
   "pygments_lexer": "ipython3",
   "version": "3.9.7"
  }
 },
 "nbformat": 4,
 "nbformat_minor": 4
}
