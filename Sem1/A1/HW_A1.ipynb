{
 "cells": [
  {
   "cell_type": "code",
   "execution_count": 202,
   "metadata": {},
   "outputs": [],
   "source": [
    "import numpy as np\n",
    "import scipy as sc\n",
    "import matplotlib\n",
    "import matplotlib.pyplot as plt\n",
    "\n",
    "import time\n",
    "from IPython.display import clear_output"
   ]
  },
  {
   "cell_type": "markdown",
   "metadata": {},
   "source": [
    "### Excercise 1 | Numpy"
   ]
  },
  {
   "cell_type": "code",
   "execution_count": 20,
   "metadata": {},
   "outputs": [],
   "source": [
    "N = 4\n",
    "\n",
    "M1 = 3\n",
    "M2 = 2\n",
    "\n",
    "A = np.random.randint(10,size=(N, M1))\n",
    "B = np.random.randint(10,size=(N, M2))"
   ]
  },
  {
   "cell_type": "markdown",
   "metadata": {},
   "source": [
    "**1** Two matrix concatenation:"
   ]
  },
  {
   "cell_type": "code",
   "execution_count": 26,
   "metadata": {},
   "outputs": [
    {
     "name": "stdout",
     "output_type": "stream",
     "text": [
      "[[3 1 4 3 5]\n",
      " [0 1 6 2 3]\n",
      " [9 5 7 6 6]\n",
      " [5 4 8 3 2]] \n",
      "\n",
      "[[3 1 4 3 5]\n",
      " [0 1 6 2 3]\n",
      " [9 5 7 6 6]\n",
      " [5 4 8 3 2]]\n"
     ]
    }
   ],
   "source": [
    "print(np.append(A,B, axis=1), \"\\n\")\n",
    "print(np.hstack([A,B])) # never function from numpy"
   ]
  },
  {
   "cell_type": "markdown",
   "metadata": {},
   "source": [
    "**2** indexing"
   ]
  },
  {
   "cell_type": "code",
   "execution_count": 40,
   "metadata": {},
   "outputs": [
    {
     "name": "stdout",
     "output_type": "stream",
     "text": [
      "[[0 6 1 1 0 9 7 0 9 5]\n",
      " [4 2 0 7 5 8 3 1 3 4]\n",
      " [5 2 2 9 6 9 2 7 5 9]\n",
      " [7 1 0 0 1 6 7 0 8 1]\n",
      " [1 0 5 1 4 9 3 9 8 3]] \n",
      "\n",
      "[3 1 1 2 2]    [1 3 9 8 6] \n",
      "\n",
      "[1 7 4 5 2]\n"
     ]
    }
   ],
   "source": [
    "N = 5\n",
    "M = 10\n",
    "L = M//2\n",
    "\n",
    "\n",
    "Matrix = np.random.randint(10,size=(N, M))\n",
    "print(Matrix, \"\\n\")\n",
    "\n",
    "a = np.random.randint(N,size=L)\n",
    "b = np.random.randint(M,size=L)\n",
    "print(a, \"  \",b, \"\\n\")\n",
    "\n",
    "ans = np.diag(Matrix[a][:, b])\n",
    "print(ans)"
   ]
  },
  {
   "cell_type": "markdown",
   "metadata": {},
   "source": [
    "**3** "
   ]
  },
  {
   "cell_type": "code",
   "execution_count": 58,
   "metadata": {},
   "outputs": [
    {
     "name": "stdout",
     "output_type": "stream",
     "text": [
      "[[0 6 1 1 0 9 7 0 9 5]\n",
      " [4 2 0 7 5 8 3 1 3 4]\n",
      " [5 2 2 9 6 9 2 7 5 9]\n",
      " [7 1 0 0 1 6 7 0 8 1]\n",
      " [1 0 5 1 4 9 3 9 8 3]] \n",
      "\n",
      "tr(Matrix) = 8\n",
      "nonzeros = 3\n"
     ]
    }
   ],
   "source": [
    "print(Matrix, \"\\n\")\n",
    "\n",
    "print(\"tr(Matrix) = {:g}\".format(np.trace(Matrix)))\n",
    "\n",
    "print(\"nonzeros = {:d}\".format(np.count_nonzero(np.diag(Matrix))))"
   ]
  },
  {
   "cell_type": "markdown",
   "metadata": {},
   "source": [
    "**4**"
   ]
  },
  {
   "cell_type": "code",
   "execution_count": 63,
   "metadata": {},
   "outputs": [
    {
     "name": "stdout",
     "output_type": "stream",
     "text": [
      "[0 1 2 3 4 5 6 7 8 9]\n",
      "[8 8 4 4 3 5 3 5 3 7]\n"
     ]
    }
   ],
   "source": [
    "arr = Matrix.flatten()\n",
    "ans = np.unique(arr, return_counts=True)\n",
    "print(ans[0])\n",
    "print(ans[1])"
   ]
  },
  {
   "cell_type": "markdown",
   "metadata": {},
   "source": [
    "**5** Mask"
   ]
  },
  {
   "cell_type": "code",
   "execution_count": 77,
   "metadata": {},
   "outputs": [
    {
     "name": "stdout",
     "output_type": "stream",
     "text": [
      "[[ 4  0  0 -4]\n",
      " [-2 -4  4 -4]\n",
      " [ 2  0  4  4]] \n",
      "\n",
      "[[-3  4  0 -3]\n",
      " [ 4 -2  2 -3]\n",
      " [-3 -2  1 -3]] \n",
      "\n",
      "[[-3  4  0  0]\n",
      " [ 0  0  2  0]\n",
      " [-3 -2  1 -3]]\n"
     ]
    }
   ],
   "source": [
    "N = 3\n",
    "M = 4\n",
    "\n",
    "Mat1 = np.random.randint(9,size=(N, M))-4\n",
    "Mat2 = np.random.randint(9,size=(N, M))-4\n",
    "print(Mat1, \"\\n\")\n",
    "\n",
    "print(Mat2, \"\\n\")\n",
    "\n",
    "Mat2[Mat1 < 0]=0\n",
    "print(Mat2)\n"
   ]
  },
  {
   "cell_type": "markdown",
   "metadata": {},
   "source": [
    "**6** "
   ]
  },
  {
   "cell_type": "code",
   "execution_count": 104,
   "metadata": {},
   "outputs": [
    {
     "data": {
      "text/plain": [
       "(array([[ 3,  4,  0,  0],\n",
       "        [ 0,  3,  2, -1],\n",
       "        [-2, -2, -3, -1]]),\n",
       " array([[ 1.3 ,  0.89,  0.16,  1.41],\n",
       "        [-0.16,  0.51,  1.14, -0.71],\n",
       "        [-1.14, -1.4 , -1.3 , -0.71]]))"
      ]
     },
     "execution_count": 104,
     "metadata": {},
     "output_type": "execute_result"
    }
   ],
   "source": [
    "N = 3\n",
    "M = 4\n",
    "\n",
    "Mat0 = np.random.randint(9, size=(N, M))-4\n",
    "\n",
    "Mat = np.copy(Mat0)\n",
    "Mat = Mat.astype(float)\n",
    "\n",
    "Mat -= np.mean(Mat,0)\n",
    "std = np.std(Mat,0)\n",
    "std[std==0]=1\n",
    "\n",
    "Mat /= std\n",
    "\n",
    "Mat0, np.round(Mat,2)"
   ]
  },
  {
   "cell_type": "code",
   "execution_count": 84,
   "metadata": {},
   "outputs": [
    {
     "name": "stdout",
     "output_type": "stream",
     "text": [
      "[[ 4 -2  2  1]\n",
      " [-4 -2 -1 -4]\n",
      " [ 2 -2 -4  1]]\n",
      "[ 0.66666667 -2.         -1.         -0.66666667]\n"
     ]
    },
    {
     "data": {
      "text/plain": [
       "array([3.39934634, 0.        , 2.44948974, 2.3570226 ])"
      ]
     },
     "execution_count": 84,
     "metadata": {},
     "output_type": "execute_result"
    }
   ],
   "source": [
    "print(Mat)\n",
    "print(np.mean(Mat,0))"
   ]
  },
  {
   "cell_type": "markdown",
   "metadata": {},
   "source": [
    "**7**"
   ]
  },
  {
   "cell_type": "code",
   "execution_count": 108,
   "metadata": {},
   "outputs": [
    {
     "data": {
      "text/plain": [
       "array([[ 11,   0,  -3,  -3],\n",
       "       [  8,  28,  15,  -6],\n",
       "       [-18,  -8,   3,  12],\n",
       "       [ 12, -24, -24, -12]])"
      ]
     },
     "execution_count": 108,
     "metadata": {},
     "output_type": "execute_result"
    }
   ],
   "source": [
    "N = 3\n",
    "M = 4\n",
    "\n",
    "Mat1 = np.random.randint(9,size=(N, M))-4\n",
    "Mat2 = np.random.randint(9,size=(N, M))-4\n",
    "\n",
    "Mat1.T @ Mat2"
   ]
  },
  {
   "cell_type": "markdown",
   "metadata": {},
   "source": [
    "**8**"
   ]
  },
  {
   "cell_type": "code",
   "execution_count": 187,
   "metadata": {},
   "outputs": [],
   "source": [
    "times = np.array([Times(N,10) for N in range(50)]) # "
   ]
  },
  {
   "cell_type": "code",
   "execution_count": 185,
   "metadata": {},
   "outputs": [],
   "source": [
    "def Times(N, repeat=1):\n",
    "    \n",
    "    times = np.zeros((repeat,2))\n",
    "    for ncnt in range(repeat):\n",
    "        Mat1 = np.random.randint(N,size=(N, N))-N//2\n",
    "        Mat2 = np.random.randint(N,size=(N, N))-N//2\n",
    "\n",
    "        # Python Time\n",
    "        Tfor1 = time.time()\n",
    "        Mat4 = np.zeros((N,N), dtype=int)\n",
    "        for i in range(N):\n",
    "            for j in range(N):\n",
    "                scalar = 0\n",
    "                for k in range(N):\n",
    "                    scalar += Mat1[i,k]*Mat2[k,j]\n",
    "                Mat4[i,j] = scalar\n",
    "        Tfor2 = time.time()\n",
    "        \n",
    "        # Numpy Time\n",
    "        Tnp1 = time.time()\n",
    "        Mat3 = Mat1 @ Mat2\n",
    "        Tnp2 = time.time()\n",
    "        times[ncnt,:] = [Tfor2-Tfor1, Tnp2-Tnp1]\n",
    "\n",
    "    Time = np.mean(times,axis=0)\n",
    "    return Time"
   ]
  },
  {
   "cell_type": "code",
   "execution_count": 198,
   "metadata": {},
   "outputs": [
    {
     "data": {
      "image/png": "[encoded data removed]",
      "text/plain": [
       "<Figure size 576x288 with 2 Axes>"
      ]
     },
     "metadata": {
      "needs_background": "light"
     },
     "output_type": "display_data"
    }
   ],
   "source": [
    "fig, ax = plt.subplots(1, 2, figsize=(8,4))\n",
    "ax[0].plot(times)\n",
    "ax[1].plot(times[:,1])\n",
    "\n",
    "plt.show()"
   ]
  },
  {
   "cell_type": "code",
   "execution_count": 199,
   "metadata": {},
   "outputs": [],
   "source": [
    "np.save(\"time_data.npy\", times)"
   ]
  },
  {
   "cell_type": "markdown",
   "metadata": {},
   "source": [
    "### Excercise 2 | Matplotlib"
   ]
  },
  {
   "cell_type": "code",
   "execution_count": 201,
   "metadata": {},
   "outputs": [
    {
     "data": {
      "image/png": "[encoded data removed]",
      "text/plain": [
       "<Figure size 1152x576 with 4 Axes>"
      ]
     },
     "metadata": {
      "needs_background": "light"
     },
     "output_type": "display_data"
    }
   ],
   "source": [
    "x = np.linspace(0, 10, 100)\n",
    "y1 = np.exp(x)\n",
    "y2 = np.sin(x)\n",
    "y3 = np.sqrt(1+x)\n",
    "y4 = np.i0(x)\n",
    "\n",
    "fig, axs = plt.subplots(2, 2, figsize=(16, 8))\n",
    "axs[0][0].plot(x, y1)\n",
    "axs[0][1].plot(x, y2)\n",
    "axs[1][0].plot(x, y3)\n",
    "axs[1][1].plot(x, y4)\n",
    "plt.show()\n",
    "\n"
   ]
  },
  {
   "cell_type": "markdown",
   "metadata": {},
   "source": [
    "**2 LAB** "
   ]
  },
  {
   "cell_type": "code",
   "execution_count": null,
   "metadata": {},
   "outputs": [],
   "source": [
    "## will be soon"
   ]
  },
  {
   "cell_type": "markdown",
   "metadata": {},
   "source": [
    "**3 Nike**"
   ]
  },
  {
   "cell_type": "code",
   "execution_count": 211,
   "metadata": {},
   "outputs": [
    {
     "data": {
      "image/png": "[encoded data removed]",
      "text/plain": [
       "<Figure size 432x288 with 1 Axes>"
      ]
     },
     "metadata": {
      "needs_background": "light"
     },
     "output_type": "display_data"
    }
   ],
   "source": [
    "x = np.linspace(0.1, 10, 1000)\n",
    "y = sc.special.gamma(x)\n",
    "\n",
    "fig, ax = plt.subplots()\n",
    "ax.plot(x, y)\n",
    "# Nike\n",
    "ax.set_yscale('log')\n"
   ]
  },
  {
   "cell_type": "markdown",
   "metadata": {},
   "source": [
    "### Excercise 3 | Wiegner"
   ]
  },
  {
   "cell_type": "code",
   "execution_count": 212,
   "metadata": {
    "ExecuteTime": {
     "end_time": "2021-09-09T01:14:46.974720Z",
     "start_time": "2021-09-09T01:14:46.950783Z"
    }
   },
   "outputs": [],
   "source": [
    "N = 400\n",
    "M = np.random.normal(size=(N, N));"
   ]
  },
  {
   "cell_type": "code",
   "execution_count": 232,
   "metadata": {
    "ExecuteTime": {
     "end_time": "2021-09-09T01:14:49.004744Z",
     "start_time": "2021-09-09T01:14:48.985793Z"
    }
   },
   "outputs": [],
   "source": [
    "bins = np.linspace(-60, 60, 50+1)\n",
    "bin_centers = 0.5*(bins[1:] + bins[:-1])\n",
    "all_eigs = 0"
   ]
  },
  {
   "cell_type": "code",
   "execution_count": 244,
   "metadata": {
    "ExecuteTime": {
     "end_time": "2021-09-09T01:14:50.679108Z",
     "start_time": "2021-09-09T01:14:50.142337Z"
    }
   },
   "outputs": [
    {
     "data": {
      "image/png": "[encoded data removed]",
      "text/plain": [
       "<Figure size 432x288 with 1 Axes>"
      ]
     },
     "metadata": {
      "needs_background": "light"
     },
     "output_type": "display_data"
    }
   ],
   "source": [
    "M = np.random.normal(size=(N, N));\n",
    "M = np.transpose(M) + M\n",
    "eigvals = np.linalg.eigvals(M)\n",
    "\n",
    "y, _ = np.histogram(eigs, bins=bins)\n",
    "\n",
    "# сохраняем полученные значения\n",
    "all_eigs = [y];\n",
    "\n",
    "plt.hist(eigs, bins=bins, color=\"green\", alpha=0.3)\n",
    "plt.plot(bin_centers, y)\n",
    "plt.show()"
   ]
  },
  {
   "cell_type": "code",
   "execution_count": 246,
   "metadata": {},
   "outputs": [
    {
     "data": {
      "text/plain": [
       "(51, 50)"
      ]
     },
     "execution_count": 246,
     "metadata": {},
     "output_type": "execute_result"
    }
   ],
   "source": [
    "all_eigs.shape"
   ]
  },
  {
   "cell_type": "code",
   "execution_count": 253,
   "metadata": {
    "ExecuteTime": {
     "end_time": "2021-09-09T01:15:07.067358Z",
     "start_time": "2021-09-09T01:14:51.370021Z"
    }
   },
   "outputs": [
    {
     "name": "stdout",
     "output_type": "stream",
     "text": [
      "100 / 50\n"
     ]
    }
   ],
   "source": [
    "# собираем данные\n",
    "Num = 100\n",
    "for i in range(Num):\n",
    "    M = np.random.normal(size=(N, N));\n",
    "    M = np.transpose(M) + M\n",
    "    eigs = np.linalg.eigvals(M)\n",
    "    y, _ = np.histogram(eigs, bins=bins)\n",
    "    all_eigs = np.vstack((all_eigs,[y]))\n",
    "    \n",
    "    clear_output(wait=True)\n",
    "    print(i+1, \"/\", Num)"
   ]
  },
  {
   "cell_type": "code",
   "execution_count": 247,
   "metadata": {},
   "outputs": [
    {
     "data": {
      "text/plain": [
       "array([[0, 1, 3, ..., 2, 2, 0],\n",
       "       [0, 1, 5, ..., 2, 2, 0],\n",
       "       [0, 1, 2, ..., 3, 1, 1],\n",
       "       ...,\n",
       "       [0, 1, 2, ..., 3, 1, 0],\n",
       "       [0, 0, 3, ..., 4, 2, 0],\n",
       "       [0, 1, 4, ..., 2, 2, 0]])"
      ]
     },
     "execution_count": 247,
     "metadata": {},
     "output_type": "execute_result"
    }
   ],
   "source": [
    "all_eigs\n",
    "# bin_centers.shape, y.shape"
   ]
  },
  {
   "cell_type": "code",
   "execution_count": null,
   "metadata": {},
   "outputs": [],
   "source": []
  },
  {
   "cell_type": "code",
   "execution_count": 254,
   "metadata": {
    "ExecuteTime": {
     "end_time": "2021-09-09T01:15:09.243791Z",
     "start_time": "2021-09-09T01:15:09.127127Z"
    }
   },
   "outputs": [
    {
     "data": {
      "image/png": "[encoded data removed]",
      "text/plain": [
       "<Figure size 432x288 with 1 Axes>"
      ]
     },
     "metadata": {
      "needs_background": "light"
     },
     "output_type": "display_data"
    }
   ],
   "source": [
    "y = np.mean(all_eigs, 0)\n",
    "\n",
    "yerr = np.std(all_eigs, 0)\n",
    "\n",
    "# plt.errorbar(bin_centers, y, yerr = yerr, marker = '.',\n",
    "#     color=\"green\")\n",
    "\n",
    "plt.plot(bin_centers, y, marker = '.',\n",
    "    color=\"green\")\n",
    "plt.fill_between(bin_centers, y-yerr, y+yerr,color=\"green\", alpha=0.2)\n",
    "\n",
    "\n",
    "plt.title(\"Вигнеровский полукруг\")\n",
    "plt.grid(alpha=0.5)\n",
    "plt.show()"
   ]
  },
  {
   "cell_type": "markdown",
   "metadata": {},
   "source": [
    "**2** Гистограмма"
   ]
  },
  {
   "cell_type": "code",
   "execution_count": 32,
   "metadata": {
    "ExecuteTime": {
     "end_time": "2021-09-09T01:15:16.811290Z",
     "start_time": "2021-09-09T01:15:11.237501Z"
    }
   },
   "outputs": [],
   "source": [
    "N = 2000\n",
    "M = np.random.normal(size=(N, N));\n",
    "M = np.transpose(M) + M\n",
    "eigs, _ = np.linalg.eig(M)"
   ]
  },
  {
   "cell_type": "code",
   "execution_count": 33,
   "metadata": {
    "ExecuteTime": {
     "end_time": "2021-09-09T01:15:17.295618Z",
     "start_time": "2021-09-09T01:15:17.124041Z"
    }
   },
   "outputs": [
    {
     "data": {
      "image/png": "[encoded data removed]",
      "text/plain": [
       "<Figure size 432x288 with 1 Axes>"
      ]
     },
     "metadata": {
      "needs_background": "light"
     },
     "output_type": "display_data"
    }
   ],
   "source": [
    "sort_eigs = np.sort(eigs)\n",
    "y1 = sort_eigs[1:]\n",
    "y2 = sort_eigs[:-1]\n",
    "y = y2-y1\n",
    "plt.hist(y, bins=50, color=\"g\")\n",
    "plt.show()"
   ]
  },
  {
   "cell_type": "code",
   "execution_count": null,
   "metadata": {},
   "outputs": [],
   "source": [
    "bins = "
   ]
  },
  {
   "cell_type": "code",
   "execution_count": null,
   "metadata": {},
   "outputs": [],
   "source": []
  },
  {
   "cell_type": "code",
   "execution_count": 272,
   "metadata": {
    "ExecuteTime": {
     "end_time": "2021-09-09T01:14:50.679108Z",
     "start_time": "2021-09-09T01:14:50.142337Z"
    }
   },
   "outputs": [
    {
     "data": {
      "image/png": "[encoded data removed]",
      "text/plain": [
       "<Figure size 432x288 with 1 Axes>"
      ]
     },
     "metadata": {
      "needs_background": "light"
     },
     "output_type": "display_data"
    }
   ],
   "source": [
    "bins = np.linspace(0, 1, 80)\n",
    "bin_centers = 0.5*(bins[1:] + bins[:-1])\n",
    "\n",
    "N = 500\n",
    "M = np.random.normal(size=(N, N));\n",
    "M = np.transpose(M) + M\n",
    "eigvals = np.linalg.eigvals(M)\n",
    "\n",
    "eigvals = np.sort(eigvals)\n",
    "y1 = eigvals[1:]\n",
    "y2 = eigvals[:-1]\n",
    "dist_eig = y1-y2\n",
    "\n",
    "y, _ = np.histogram(dist_eig, bins=bins)\n",
    "all_dist = [y]\n",
    "\n",
    "plt.hist(dist_eig, bins=bins, color=\"g\")\n",
    "plt.show()\n",
    "\n",
    "\n",
    "# plt.hist(eigs, bins=bins, color=\"green\", alpha=0.3)\n",
    "# plt.plot(bin_centers, y)\n",
    "# plt.show()"
   ]
  },
  {
   "cell_type": "code",
   "execution_count": 273,
   "metadata": {
    "ExecuteTime": {
     "end_time": "2021-09-09T01:15:07.067358Z",
     "start_time": "2021-09-09T01:14:51.370021Z"
    }
   },
   "outputs": [
    {
     "name": "stdout",
     "output_type": "stream",
     "text": [
      "100 / 100\n"
     ]
    }
   ],
   "source": [
    "# собираем данные\n",
    "Num = 100\n",
    "for i in range(Num):\n",
    "    M = np.random.normal(size=(N, N));\n",
    "    M = np.transpose(M) + M\n",
    "    eigs = np.linalg.eigvals(M)\n",
    "    \n",
    "    eigvals = np.sort(eigvals)\n",
    "    y1 = eigvals[1:]\n",
    "    y2 = eigvals[:-1]\n",
    "    dist_eig = y1-y2\n",
    "    y, _ = np.histogram(dist_eig, bins=bins)\n",
    "    \n",
    "    all_dist = np.vstack((all_dist,[y]))\n",
    "    \n",
    "    clear_output(wait=True)\n",
    "    print(i+1, \"/\", Num)"
   ]
  },
  {
   "cell_type": "code",
   "execution_count": 274,
   "metadata": {
    "ExecuteTime": {
     "end_time": "2021-09-09T01:15:09.243791Z",
     "start_time": "2021-09-09T01:15:09.127127Z"
    }
   },
   "outputs": [
    {
     "data": {
      "image/png": "[encoded data removed]",
      "text/plain": [
       "<Figure size 432x288 with 1 Axes>"
      ]
     },
     "metadata": {
      "needs_background": "light"
     },
     "output_type": "display_data"
    }
   ],
   "source": [
    "y = np.mean(all_dist, 0)\n",
    "\n",
    "yerr = np.std(all_dist, 0)\n",
    "\n",
    "# plt.errorbar(bin_centers, y, yerr = yerr, marker = '.',\n",
    "#     color=\"green\")\n",
    "\n",
    "plt.plot(bin_centers, y, marker = '.',\n",
    "    color=\"green\")\n",
    "plt.fill_between(bin_centers, y-yerr, y+yerr,color=\"green\", alpha=0.2)\n",
    "\n",
    "\n",
    "plt.title(\"Вигнеровский полукруг\")\n",
    "plt.grid(alpha=0.5)\n",
    "plt.show()"
   ]
  },
  {
   "cell_type": "code",
   "execution_count": null,
   "metadata": {},
   "outputs": [],
   "source": []
  }
 ],
 "metadata": {
  "kernelspec": {
   "display_name": "snakess",
   "language": "python",
   "name": "snakess"
  },
  "language_info": {
   "codemirror_mode": {
    "name": "ipython",
    "version": 3
   },
   "file_extension": ".py",
   "mimetype": "text/x-python",
   "name": "python",
   "nbconvert_exporter": "python",
   "pygments_lexer": "ipython3",
   "version": "3.9.7"
  }
 },
 "nbformat": 4,
 "nbformat_minor": 4
}
