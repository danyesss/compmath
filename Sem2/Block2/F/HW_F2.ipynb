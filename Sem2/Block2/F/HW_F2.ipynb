{
 "cells": [
  {
   "cell_type": "code",
   "execution_count": 4,
   "metadata": {},
   "outputs": [],
   "source": [
    "import numpy as np\n",
    "from matplotlib import pyplot as plt"
   ]
  },
  {
   "cell_type": "code",
   "execution_count": 5,
   "metadata": {},
   "outputs": [],
   "source": [
    "sigma = 1\n",
    "N = 10000\n",
    "sigma_c = sigma * 10**(-3)\n",
    "L = 10**(2)"
   ]
  },
  {
   "cell_type": "code",
   "execution_count": 6,
   "metadata": {},
   "outputs": [
    {
     "name": "stdout",
     "output_type": "stream",
     "text": [
      "Absorbed: 0.0854\n",
      "Passed: 0.0003\n",
      "Reflected: 0.9143\n"
     ]
    },
    {
     "data": {
      "text/plain": [
       "(array([88., 91., 73., 54., 62., 46., 46., 50., 37., 46., 27., 27., 21.,\n",
       "        19., 25., 15., 15.,  9., 11., 10.,  9., 13.,  2.,  8.,  8.,  3.,\n",
       "         7.,  4.,  2.,  4.,  5.,  5.,  1.,  0.,  0.,  0.,  4.,  0.,  4.,\n",
       "         3.]),\n",
       " array([5.16707609e-03, 2.02203914e+00, 4.03891121e+00, 6.05578327e+00,\n",
       "        8.07265534e+00, 1.00895274e+01, 1.21063995e+01, 1.41232715e+01,\n",
       "        1.61401436e+01, 1.81570157e+01, 2.01738877e+01, 2.21907598e+01,\n",
       "        2.42076319e+01, 2.62245039e+01, 2.82413760e+01, 3.02582481e+01,\n",
       "        3.22751201e+01, 3.42919922e+01, 3.63088643e+01, 3.83257363e+01,\n",
       "        4.03426084e+01, 4.23594805e+01, 4.43763525e+01, 4.63932246e+01,\n",
       "        4.84100967e+01, 5.04269687e+01, 5.24438408e+01, 5.44607129e+01,\n",
       "        5.64775849e+01, 5.84944570e+01, 6.05113291e+01, 6.25282011e+01,\n",
       "        6.45450732e+01, 6.65619453e+01, 6.85788173e+01, 7.05956894e+01,\n",
       "        7.26125615e+01, 7.46294335e+01, 7.66463056e+01, 7.86631777e+01,\n",
       "        8.06800497e+01]),\n",
       " <BarContainer object of 40 artists>)"
      ]
     },
     "execution_count": 6,
     "metadata": {},
     "output_type": "execute_result"
    },
    {
     "data": {
      "image/png": "[encoded data removed]",
      "text/plain": [
       "<Figure size 432x288 with 1 Axes>"
      ]
     },
     "metadata": {
      "needs_background": "light"
     },
     "output_type": "display_data"
    }
   ],
   "source": [
    "c_xs = []\n",
    "N_c = 0\n",
    "N_t = 0\n",
    "N_r = 0\n",
    "for i in range(N):\n",
    "    x = 0\n",
    "    mu = 1\n",
    "    while True:\n",
    "        lmb = - 1 / sigma * np.log(np.random.uniform(1e-3, 1))\n",
    "        x = x + lmb * mu\n",
    "        if x >= L:\n",
    "            N_t += 1\n",
    "            break\n",
    "        elif x <=0:\n",
    "            N_r += 1\n",
    "            break\n",
    "        elif np.random.uniform(0, 1) <= sigma_c / sigma:\n",
    "            N_c += 1\n",
    "            c_xs.append(x)\n",
    "            break\n",
    "        mu = np.random.uniform(-1, 1)\n",
    "print(\"Absorbed: \" + str(N_c / N))\n",
    "print(\"Passed: \" + str(N_t / N))\n",
    "print(\"Reflected: \" + str(N_r / N))\n",
    "plt.hist(c_xs, bins = 40)"
   ]
  },
  {
   "cell_type": "code",
   "execution_count": null,
   "metadata": {},
   "outputs": [],
   "source": []
  },
  {
   "cell_type": "code",
   "execution_count": null,
   "metadata": {},
   "outputs": [],
   "source": []
  }
 ],
 "metadata": {
  "kernelspec": {
   "display_name": "Python 3 (ipykernel)",
   "language": "python",
   "name": "python3"
  },
  "language_info": {
   "codemirror_mode": {
    "name": "ipython",
    "version": 3
   },
   "file_extension": ".py",
   "mimetype": "text/x-python",
   "name": "python",
   "nbconvert_exporter": "python",
   "pygments_lexer": "ipython3",
   "version": "3.9.7"
  }
 },
 "nbformat": 4,
 "nbformat_minor": 4
}
