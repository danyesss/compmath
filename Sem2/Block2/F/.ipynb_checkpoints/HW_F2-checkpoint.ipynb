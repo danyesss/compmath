{
 "cells": [
  {
   "cell_type": "code",
   "execution_count": 4,
   "metadata": {},
   "outputs": [],
   "source": [
    "import numpy as np\n",
    "from matplotlib import pyplot as plt"
   ]
  },
  {
   "cell_type": "code",
   "execution_count": 5,
   "metadata": {},
   "outputs": [],
   "source": [
    "sigma = 1\n",
    "N = 10000\n",
    "sigma_c = sigma * 10**(-3)\n",
    "L = 10**(2)"
   ]
  },
  {
   "cell_type": "code",
   "execution_count": null,
   "metadata": {},
   "outputs": [],
   "source": [
    "c_xs = []\n",
    "N_c = 0\n",
    "N_t = 0\n",
    "N_r = 0\n",
    "for i in range(N):\n",
    "    x = 0\n",
    "    mu = 1\n",
    "    while True:\n",
    "        lmb = - 1 / sigma * np.log(np.random.uniform(1e-3, 1))\n",
    "        x = x + lmb * mu\n",
    "        if x >= L:\n",
    "            N_t += 1\n",
    "            break\n",
    "        elif x <=0:\n",
    "            N_r += 1\n",
    "            break\n",
    "        elif np.random.uniform(0, 1) <= sigma_c / sigma:\n",
    "            N_c += 1\n",
    "            c_xs.append(x)\n",
    "            break\n",
    "        mu = np.random.uniform(-1, 1)\n",
    "print(\"Absorbed: \" + str(N_c / N))\n",
    "print(\"Passed: \" + str(N_t / N))\n",
    "print(\"Reflected: \" + str(N_r / N))\n",
    "plt.hist(c_xs, bins = 40)"
   ]
  },
  {
   "cell_type": "code",
   "execution_count": null,
   "metadata": {},
   "outputs": [],
   "source": []
  },
  {
   "cell_type": "code",
   "execution_count": null,
   "metadata": {},
   "outputs": [],
   "source": []
  }
 ],
 "metadata": {
  "kernelspec": {
   "display_name": "Python 3 (ipykernel)",
   "language": "python",
   "name": "python3"
  },
  "language_info": {
   "codemirror_mode": {
    "name": "ipython",
    "version": 3
   },
   "file_extension": ".py",
   "mimetype": "text/x-python",
   "name": "python",
   "nbconvert_exporter": "python",
   "pygments_lexer": "ipython3",
   "version": "3.9.7"
  }
 },
 "nbformat": 4,
 "nbformat_minor": 4
}
